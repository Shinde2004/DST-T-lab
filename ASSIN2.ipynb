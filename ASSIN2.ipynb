{
  "nbformat": 4,
  "nbformat_minor": 0,
  "metadata": {
    "colab": {
      "provenance": []
    },
    "kernelspec": {
      "name": "python3",
      "display_name": "Python 3"
    },
    "language_info": {
      "name": "python"
    }
  },
  "cells": [
    {
      "cell_type": "markdown",
      "source": [],
      "metadata": {
        "id": "8nXwfuF4rEvL"
      }
    },
    {
      "cell_type": "code",
      "source": [
        "! apt-get update\n",
        "!apt-get install openjdk-11-jdk-y\n",
        "!pip install pyspark"
      ],
      "metadata": {
        "colab": {
          "base_uri": "https://localhost:8080/"
        },
        "id": "Lz8sbbPRfScB",
        "outputId": "bc98314d-5e74-4f4a-ee90-5573bdd2d752"
      },
      "execution_count": 1,
      "outputs": [
        {
          "output_type": "stream",
          "name": "stdout",
          "text": [
            "Get:1 http://security.ubuntu.com/ubuntu jammy-security InRelease [129 kB]\n",
            "Get:2 https://cloud.r-project.org/bin/linux/ubuntu jammy-cran40/ InRelease [3,632 B]\n",
            "Get:3 https://r2u.stat.illinois.edu/ubuntu jammy InRelease [6,555 B]\n",
            "Get:4 https://developer.download.nvidia.com/compute/cuda/repos/ubuntu2204/x86_64  InRelease [1,581 B]\n",
            "Hit:5 http://archive.ubuntu.com/ubuntu jammy InRelease\n",
            "Get:6 http://archive.ubuntu.com/ubuntu jammy-updates InRelease [128 kB]\n",
            "Hit:7 https://ppa.launchpadcontent.net/deadsnakes/ppa/ubuntu jammy InRelease\n",
            "Hit:8 https://ppa.launchpadcontent.net/graphics-drivers/ppa/ubuntu jammy InRelease\n",
            "Hit:9 https://ppa.launchpadcontent.net/ubuntugis/ppa/ubuntu jammy InRelease\n",
            "Get:10 http://archive.ubuntu.com/ubuntu jammy-backports InRelease [127 kB]\n",
            "Get:11 https://r2u.stat.illinois.edu/ubuntu jammy/main all Packages [8,992 kB]\n",
            "Get:12 http://security.ubuntu.com/ubuntu jammy-security/universe amd64 Packages [1,246 kB]\n",
            "Get:13 https://developer.download.nvidia.com/compute/cuda/repos/ubuntu2204/x86_64  Packages [1,721 kB]\n",
            "Get:14 http://security.ubuntu.com/ubuntu jammy-security/main amd64 Packages [2,953 kB]\n",
            "Get:15 https://r2u.stat.illinois.edu/ubuntu jammy/main amd64 Packages [2,734 kB]\n",
            "Get:16 http://archive.ubuntu.com/ubuntu jammy-updates/main amd64 Packages [3,264 kB]\n",
            "Get:17 http://archive.ubuntu.com/ubuntu jammy-updates/universe amd64 Packages [1,553 kB]\n",
            "Fetched 22.9 MB in 5s (4,391 kB/s)\n",
            "Reading package lists... Done\n",
            "W: Skipping acquire of configured file 'main/source/Sources' as repository 'https://r2u.stat.illinois.edu/ubuntu jammy InRelease' does not seem to provide it (sources.list entry misspelt?)\n",
            "Reading package lists... Done\n",
            "Building dependency tree... Done\n",
            "Reading state information... Done\n",
            "E: Unable to locate package openjdk-11-jdk-y\n",
            "Requirement already satisfied: pyspark in /usr/local/lib/python3.11/dist-packages (3.5.1)\n",
            "Requirement already satisfied: py4j==0.10.9.7 in /usr/local/lib/python3.11/dist-packages (from pyspark) (0.10.9.7)\n"
          ]
        }
      ]
    },
    {
      "cell_type": "code",
      "source": [
        "from pyspark.sql import SparkSession\n",
        "\n",
        "# Create Spark session\n",
        "spark = SparkSession.builder \\\n",
        "    .appName(\"NASA Web Logs Analysis\") \\\n",
        "    .getOrCreate()\n",
        "\n",
        "# Print Spark version\n",
        "print(f\"Spark Version: {spark.version}\")\n",
        "\n",
        "# Stop the Spark session (optional, but good practice)\n",
        "# spark.stop()"
      ],
      "metadata": {
        "colab": {
          "base_uri": "https://localhost:8080/"
        },
        "id": "5jURK6m6fccB",
        "outputId": "fee950ad-79e3-453b-80d3-5ac922a4ac16"
      },
      "execution_count": 2,
      "outputs": [
        {
          "output_type": "stream",
          "name": "stdout",
          "text": [
            "Spark Version: 3.5.1\n"
          ]
        }
      ]
    },
    {
      "cell_type": "code",
      "source": [
        "from google.colab import files\n",
        "from pyspark.sql import SparkSession\n",
        "\n",
        "# Create Spark session (if not already created)\n",
        "spark = SparkSession.builder \\\n",
        "    .appName(\"NASA Web Logs Analysis\") \\\n",
        "    .getOrCreate()\n",
        "\n",
        "# Upload file\n",
        "uploaded = files.upload()\n",
        "\n",
        "# Extract the file name\n",
        "log_file_path = list(uploaded.keys())[0]\n",
        "\n",
        "# Now read the file with Spark\n",
        "raw_data = spark.read.text(f\"/content/{log_file_path}\")\n",
        "\n",
        "# Show the first 5 lines (without truncation)\n",
        "raw_data.show(5, truncate=False)"
      ],
      "metadata": {
        "colab": {
          "base_uri": "https://localhost:8080/",
          "height": 264
        },
        "id": "ysGotkoxf6Lg",
        "outputId": "d78af52e-6618-4b8b-b7c3-0b4184a4edb3"
      },
      "execution_count": 3,
      "outputs": [
        {
          "output_type": "display_data",
          "data": {
            "text/plain": [
              "<IPython.core.display.HTML object>"
            ],
            "text/html": [
              "\n",
              "     <input type=\"file\" id=\"files-cd18980c-4771-4312-b4b0-4bae90ea7211\" name=\"files[]\" multiple disabled\n",
              "        style=\"border:none\" />\n",
              "     <output id=\"result-cd18980c-4771-4312-b4b0-4bae90ea7211\">\n",
              "      Upload widget is only available when the cell has been executed in the\n",
              "      current browser session. Please rerun this cell to enable.\n",
              "      </output>\n",
              "      <script>// Copyright 2017 Google LLC\n",
              "//\n",
              "// Licensed under the Apache License, Version 2.0 (the \"License\");\n",
              "// you may not use this file except in compliance with the License.\n",
              "// You may obtain a copy of the License at\n",
              "//\n",
              "//      http://www.apache.org/licenses/LICENSE-2.0\n",
              "//\n",
              "// Unless required by applicable law or agreed to in writing, software\n",
              "// distributed under the License is distributed on an \"AS IS\" BASIS,\n",
              "// WITHOUT WARRANTIES OR CONDITIONS OF ANY KIND, either express or implied.\n",
              "// See the License for the specific language governing permissions and\n",
              "// limitations under the License.\n",
              "\n",
              "/**\n",
              " * @fileoverview Helpers for google.colab Python module.\n",
              " */\n",
              "(function(scope) {\n",
              "function span(text, styleAttributes = {}) {\n",
              "  const element = document.createElement('span');\n",
              "  element.textContent = text;\n",
              "  for (const key of Object.keys(styleAttributes)) {\n",
              "    element.style[key] = styleAttributes[key];\n",
              "  }\n",
              "  return element;\n",
              "}\n",
              "\n",
              "// Max number of bytes which will be uploaded at a time.\n",
              "const MAX_PAYLOAD_SIZE = 100 * 1024;\n",
              "\n",
              "function _uploadFiles(inputId, outputId) {\n",
              "  const steps = uploadFilesStep(inputId, outputId);\n",
              "  const outputElement = document.getElementById(outputId);\n",
              "  // Cache steps on the outputElement to make it available for the next call\n",
              "  // to uploadFilesContinue from Python.\n",
              "  outputElement.steps = steps;\n",
              "\n",
              "  return _uploadFilesContinue(outputId);\n",
              "}\n",
              "\n",
              "// This is roughly an async generator (not supported in the browser yet),\n",
              "// where there are multiple asynchronous steps and the Python side is going\n",
              "// to poll for completion of each step.\n",
              "// This uses a Promise to block the python side on completion of each step,\n",
              "// then passes the result of the previous step as the input to the next step.\n",
              "function _uploadFilesContinue(outputId) {\n",
              "  const outputElement = document.getElementById(outputId);\n",
              "  const steps = outputElement.steps;\n",
              "\n",
              "  const next = steps.next(outputElement.lastPromiseValue);\n",
              "  return Promise.resolve(next.value.promise).then((value) => {\n",
              "    // Cache the last promise value to make it available to the next\n",
              "    // step of the generator.\n",
              "    outputElement.lastPromiseValue = value;\n",
              "    return next.value.response;\n",
              "  });\n",
              "}\n",
              "\n",
              "/**\n",
              " * Generator function which is called between each async step of the upload\n",
              " * process.\n",
              " * @param {string} inputId Element ID of the input file picker element.\n",
              " * @param {string} outputId Element ID of the output display.\n",
              " * @return {!Iterable<!Object>} Iterable of next steps.\n",
              " */\n",
              "function* uploadFilesStep(inputId, outputId) {\n",
              "  const inputElement = document.getElementById(inputId);\n",
              "  inputElement.disabled = false;\n",
              "\n",
              "  const outputElement = document.getElementById(outputId);\n",
              "  outputElement.innerHTML = '';\n",
              "\n",
              "  const pickedPromise = new Promise((resolve) => {\n",
              "    inputElement.addEventListener('change', (e) => {\n",
              "      resolve(e.target.files);\n",
              "    });\n",
              "  });\n",
              "\n",
              "  const cancel = document.createElement('button');\n",
              "  inputElement.parentElement.appendChild(cancel);\n",
              "  cancel.textContent = 'Cancel upload';\n",
              "  const cancelPromise = new Promise((resolve) => {\n",
              "    cancel.onclick = () => {\n",
              "      resolve(null);\n",
              "    };\n",
              "  });\n",
              "\n",
              "  // Wait for the user to pick the files.\n",
              "  const files = yield {\n",
              "    promise: Promise.race([pickedPromise, cancelPromise]),\n",
              "    response: {\n",
              "      action: 'starting',\n",
              "    }\n",
              "  };\n",
              "\n",
              "  cancel.remove();\n",
              "\n",
              "  // Disable the input element since further picks are not allowed.\n",
              "  inputElement.disabled = true;\n",
              "\n",
              "  if (!files) {\n",
              "    return {\n",
              "      response: {\n",
              "        action: 'complete',\n",
              "      }\n",
              "    };\n",
              "  }\n",
              "\n",
              "  for (const file of files) {\n",
              "    const li = document.createElement('li');\n",
              "    li.append(span(file.name, {fontWeight: 'bold'}));\n",
              "    li.append(span(\n",
              "        `(${file.type || 'n/a'}) - ${file.size} bytes, ` +\n",
              "        `last modified: ${\n",
              "            file.lastModifiedDate ? file.lastModifiedDate.toLocaleDateString() :\n",
              "                                    'n/a'} - `));\n",
              "    const percent = span('0% done');\n",
              "    li.appendChild(percent);\n",
              "\n",
              "    outputElement.appendChild(li);\n",
              "\n",
              "    const fileDataPromise = new Promise((resolve) => {\n",
              "      const reader = new FileReader();\n",
              "      reader.onload = (e) => {\n",
              "        resolve(e.target.result);\n",
              "      };\n",
              "      reader.readAsArrayBuffer(file);\n",
              "    });\n",
              "    // Wait for the data to be ready.\n",
              "    let fileData = yield {\n",
              "      promise: fileDataPromise,\n",
              "      response: {\n",
              "        action: 'continue',\n",
              "      }\n",
              "    };\n",
              "\n",
              "    // Use a chunked sending to avoid message size limits. See b/62115660.\n",
              "    let position = 0;\n",
              "    do {\n",
              "      const length = Math.min(fileData.byteLength - position, MAX_PAYLOAD_SIZE);\n",
              "      const chunk = new Uint8Array(fileData, position, length);\n",
              "      position += length;\n",
              "\n",
              "      const base64 = btoa(String.fromCharCode.apply(null, chunk));\n",
              "      yield {\n",
              "        response: {\n",
              "          action: 'append',\n",
              "          file: file.name,\n",
              "          data: base64,\n",
              "        },\n",
              "      };\n",
              "\n",
              "      let percentDone = fileData.byteLength === 0 ?\n",
              "          100 :\n",
              "          Math.round((position / fileData.byteLength) * 100);\n",
              "      percent.textContent = `${percentDone}% done`;\n",
              "\n",
              "    } while (position < fileData.byteLength);\n",
              "  }\n",
              "\n",
              "  // All done.\n",
              "  yield {\n",
              "    response: {\n",
              "      action: 'complete',\n",
              "    }\n",
              "  };\n",
              "}\n",
              "\n",
              "scope.google = scope.google || {};\n",
              "scope.google.colab = scope.google.colab || {};\n",
              "scope.google.colab._files = {\n",
              "  _uploadFiles,\n",
              "  _uploadFilesContinue,\n",
              "};\n",
              "})(self);\n",
              "</script> "
            ]
          },
          "metadata": {}
        },
        {
          "output_type": "stream",
          "name": "stdout",
          "text": [
            "Saving access_log_Jul95 to access_log_Jul95\n",
            "+-----------------------------------------------------------------------------------------------------------------------+\n",
            "|value                                                                                                                  |\n",
            "+-----------------------------------------------------------------------------------------------------------------------+\n",
            "|199.72.81.55 - - [01/Jul/1995:00:00:01 -0400] \"GET /history/apollo/ HTTP/1.0\" 200 6245                                 |\n",
            "|unicomp6.unicomp.net - - [01/Jul/1995:00:00:06 -0400] \"GET /shuttle/countdown/ HTTP/1.0\" 200 3985                      |\n",
            "|199.120.110.21 - - [01/Jul/1995:00:00:09 -0400] \"GET /shuttle/missions/sts-73/mission-sts-73.html HTTP/1.0\" 200 4085   |\n",
            "|burger.letters.com - - [01/Jul/1995:00:00:11 -0400] \"GET /shuttle/countdown/liftoff.html HTTP/1.0\" 304 0               |\n",
            "|199.120.110.21 - - [01/Jul/1995:00:00:11 -0400] \"GET /shuttle/missions/sts-73/sts-73-patch-small.gif HTTP/1.0\" 200 4179|\n",
            "+-----------------------------------------------------------------------------------------------------------------------+\n",
            "only showing top 5 rows\n",
            "\n"
          ]
        }
      ]
    },
    {
      "cell_type": "code",
      "source": [
        "from pyspark.sql.functions import regexp_extract\n",
        "from pyspark.sql.types import IntegerType\n",
        "from pyspark.sql import SparkSession\n",
        "\n",
        "# Assuming 'spark' session is already created. If not:\n",
        "spark = SparkSession.builder.appName(\"LogParsing\").getOrCreate()\n",
        "\n",
        "# Assuming raw_data is already loaded. If not:\n",
        "# raw_data = spark.read.text(\"/path/to/your/log/file.txt\")\n",
        "\n",
        "# Regular expressions for parsing\n",
        "host_pattern = r'(\\S+)'  # Extracts host (any sequence of non-whitespace characters)\n",
        "timestamp_pattern = r'\\[(.*?)\\]'  # Extracts timestamp\n",
        "method_endpoint_pattern = r'(GET|POST|HEAD|PUT|DELETE)\\s+(\\S+)\\s'  # Extracts HTTP method and endpoint\n",
        "status_pattern = r'(\\d{3})'  # Extracts status code\n",
        "content_size_pattern = r'(\\d+)$'  # Extracts content size\n",
        "\n",
        "# Parse data into structured columns\n",
        "logs_df = raw_data.withColumn(\"host\", regexp_extract(\"value\", host_pattern, 1)) \\\n",
        "    .withColumn(\"timestamp\", regexp_extract(\"value\", timestamp_pattern, 1)) \\\n",
        "    .withColumn(\"method\", regexp_extract(\"value\", method_endpoint_pattern, 1)) \\\n",
        "    .withColumn(\"endpoint\", regexp_extract(\"value\", method_endpoint_pattern, 2)) \\\n",
        "    .withColumn(\"status\", regexp_extract(\"value\", status_pattern, 1).cast(IntegerType())) \\\n",
        "    .withColumn(\"content_size\", regexp_extract(\"value\", content_size_pattern, 1).cast(IntegerType()))\n",
        "\n",
        "logs_df.show(5, truncate=False) #added truncate=false for better viewing of the data."
      ],
      "metadata": {
        "colab": {
          "base_uri": "https://localhost:8080/"
        },
        "id": "zCxzWtZ-pgrv",
        "outputId": "b43db241-4f40-40f3-d0ec-035641c6a35d"
      },
      "execution_count": 4,
      "outputs": [
        {
          "output_type": "stream",
          "name": "stdout",
          "text": [
            "+-----------------------------------------------------------------------------------------------------------------------+--------------------+--------------------------+------+-----------------------------------------------+------+------------+\n",
            "|value                                                                                                                  |host                |timestamp                 |method|endpoint                                       |status|content_size|\n",
            "+-----------------------------------------------------------------------------------------------------------------------+--------------------+--------------------------+------+-----------------------------------------------+------+------------+\n",
            "|199.72.81.55 - - [01/Jul/1995:00:00:01 -0400] \"GET /history/apollo/ HTTP/1.0\" 200 6245                                 |199.72.81.55        |01/Jul/1995:00:00:01 -0400|GET   |/history/apollo/                               |199   |6245        |\n",
            "|unicomp6.unicomp.net - - [01/Jul/1995:00:00:06 -0400] \"GET /shuttle/countdown/ HTTP/1.0\" 200 3985                      |unicomp6.unicomp.net|01/Jul/1995:00:00:06 -0400|GET   |/shuttle/countdown/                            |199   |3985        |\n",
            "|199.120.110.21 - - [01/Jul/1995:00:00:09 -0400] \"GET /shuttle/missions/sts-73/mission-sts-73.html HTTP/1.0\" 200 4085   |199.120.110.21      |01/Jul/1995:00:00:09 -0400|GET   |/shuttle/missions/sts-73/mission-sts-73.html   |199   |4085        |\n",
            "|burger.letters.com - - [01/Jul/1995:00:00:11 -0400] \"GET /shuttle/countdown/liftoff.html HTTP/1.0\" 304 0               |burger.letters.com  |01/Jul/1995:00:00:11 -0400|GET   |/shuttle/countdown/liftoff.html                |199   |0           |\n",
            "|199.120.110.21 - - [01/Jul/1995:00:00:11 -0400] \"GET /shuttle/missions/sts-73/sts-73-patch-small.gif HTTP/1.0\" 200 4179|199.120.110.21      |01/Jul/1995:00:00:11 -0400|GET   |/shuttle/missions/sts-73/sts-73-patch-small.gif|199   |4179        |\n",
            "+-----------------------------------------------------------------------------------------------------------------------+--------------------+--------------------------+------+-----------------------------------------------+------+------------+\n",
            "only showing top 5 rows\n",
            "\n"
          ]
        }
      ]
    },
    {
      "cell_type": "code",
      "source": [
        "from pyspark.sql import SparkSession\n",
        "\n",
        "# Assuming 'spark' session is already created and logs_df is available. If not:\n",
        "# spark = SparkSession.builder.appName(\"LogAnalysis\").getOrCreate()\n",
        "# ... (load or create logs_df)\n",
        "\n",
        "# a.Compute statistics regarding the average, minimum, and maximum content sizes.\n",
        "logs_df.selectExpr(\n",
        "    \"AVG(content_size) as avg_size\",\n",
        "    \"MIN(content_size) as min_size\",\n",
        "    \"MAX(content_size) as max_size\"\n",
        ").show()"
      ],
      "metadata": {
        "colab": {
          "base_uri": "https://localhost:8080/"
        },
        "id": "7XrhfACXppog",
        "outputId": "56edc3fb-3321-498a-f9b2-e77021d82384"
      },
      "execution_count": 5,
      "outputs": [
        {
          "output_type": "stream",
          "name": "stdout",
          "text": [
            "+------------------+--------+--------+\n",
            "|          avg_size|min_size|max_size|\n",
            "+------------------+--------+--------+\n",
            "|20671.058516934936|       0| 6823936|\n",
            "+------------------+--------+--------+\n",
            "\n"
          ]
        }
      ]
    },
    {
      "cell_type": "code",
      "source": [
        "from pyspark.sql import SparkSession\n",
        "\n",
        "# Assuming 'spark' session is already created and logs_df is available. If not:\n",
        "# spark = SparkSession.builder.appName(\"LogAnalysis\").getOrCreate()\n",
        "# ... (load or create logs_df)\n",
        "\n",
        "# b.Perform HTTP status code analysis to see which status code values appear and how many times\n",
        "logs_df.groupby(\"status\").count().orderBy(\"status\").show()"
      ],
      "metadata": {
        "colab": {
          "base_uri": "https://localhost:8080/"
        },
        "id": "KR9vhG_NsEO2",
        "outputId": "ff766a34-6532-4377-8874-673ae0a1fc86"
      },
      "execution_count": 6,
      "outputs": [
        {
          "output_type": "stream",
          "name": "stdout",
          "text": [
            "+------+-----+\n",
            "|status|count|\n",
            "+------+-----+\n",
            "|  NULL|    1|\n",
            "|     0| 2065|\n",
            "|     1| 3863|\n",
            "|     2| 3874|\n",
            "|     3| 2795|\n",
            "|     4| 2905|\n",
            "|     5| 3074|\n",
            "|     6| 2996|\n",
            "|     7| 2636|\n",
            "|     8| 2155|\n",
            "|     9| 1785|\n",
            "|    10| 2976|\n",
            "|    11| 2280|\n",
            "|    12| 2422|\n",
            "|    13| 2684|\n",
            "|    14| 2235|\n",
            "|    15| 2892|\n",
            "|    16| 2306|\n",
            "|    17| 2190|\n",
            "|    18| 1738|\n",
            "+------+-----+\n",
            "only showing top 20 rows\n",
            "\n"
          ]
        }
      ]
    },
    {
      "cell_type": "code",
      "source": [
        "#c  Analysing frequent hosts by getting the total count of accesses by each host, sorting by the number of accesses, and displaying only the top 10 most frequent hosts\n",
        "from pyspark.sql.functions import desc\n",
        "\n",
        "logs_df.groupBy(\"host\").count().orderBy(desc(\"count\")).limit(10).show()\n"
      ],
      "metadata": {
        "colab": {
          "base_uri": "https://localhost:8080/"
        },
        "id": "R5mV30uisIH7",
        "outputId": "123f17cc-c862-4796-cb97-064d7024fed3"
      },
      "execution_count": 14,
      "outputs": [
        {
          "output_type": "stream",
          "name": "stdout",
          "text": [
            "+--------------------+-----+\n",
            "|                host|count|\n",
            "+--------------------+-----+\n",
            "|piweba3y.prodigy.com|17572|\n",
            "|piweba4y.prodigy.com|11591|\n",
            "|piweba1y.prodigy.com| 9868|\n",
            "|  alyssa.prodigy.com| 7852|\n",
            "| siltb10.orl.mmc.com| 7573|\n",
            "|piweba2y.prodigy.com| 5922|\n",
            "|  edams.ksc.nasa.gov| 5434|\n",
            "|        163.206.89.4| 4906|\n",
            "|         news.ti.com| 4863|\n",
            "|disarray.demon.co.uk| 4353|\n",
            "+--------------------+-----+\n",
            "\n"
          ]
        }
      ]
    },
    {
      "cell_type": "code",
      "source": [
        "#d Display the top 20 most frequent endpoints\n",
        "logs_df.groupBy(\"endpoint\").count().orderBy(desc(\"count\")).limit(20).show()"
      ],
      "metadata": {
        "colab": {
          "base_uri": "https://localhost:8080/"
        },
        "id": "k57l3BQxuwxr",
        "outputId": "1137d330-221b-4167-99f8-8071024efb5c"
      },
      "execution_count": 15,
      "outputs": [
        {
          "output_type": "stream",
          "name": "stdout",
          "text": [
            "+--------------------+------+\n",
            "|            endpoint| count|\n",
            "+--------------------+------+\n",
            "|/images/NASA-logo...|111144|\n",
            "|/images/KSC-logos...| 89530|\n",
            "|/images/MOSAIC-lo...| 60300|\n",
            "|/images/USA-logos...| 59845|\n",
            "|/images/WORLD-log...| 59325|\n",
            "|/images/ksclogo-m...| 58616|\n",
            "|/images/launch-lo...| 40841|\n",
            "| /shuttle/countdown/| 40251|\n",
            "|           /ksc.html| 40072|\n",
            "|/images/ksclogosm...| 33555|\n",
            "|                   /| 32749|\n",
            "|/history/apollo/i...| 31052|\n",
            "|/shuttle/missions...| 24834|\n",
            "|  /htbin/cdt_main.pl| 22601|\n",
            "|/shuttle/countdow...| 22189|\n",
            "|/shuttle/countdow...| 21981|\n",
            "|/shuttle/countdow...| 20921|\n",
            "|/images/launchmed...| 20788|\n",
            "|/shuttle/missions...| 19832|\n",
            "|/shuttle/missions...| 18135|\n",
            "+--------------------+------+\n",
            "\n"
          ]
        }
      ]
    },
    {
      "cell_type": "code",
      "source": [
        "#e  Display the top 10 error endpoints\n",
        "logs_df.filter(\"status >= 400\").groupBy(\"endpoint\").count().orderBy(desc(\"count\")).limit(10).show()"
      ],
      "metadata": {
        "colab": {
          "base_uri": "https://localhost:8080/"
        },
        "id": "WgjdoJL_vm24",
        "outputId": "24764de4-4877-43b0-fc76-6e848812aae6"
      },
      "execution_count": 16,
      "outputs": [
        {
          "output_type": "stream",
          "name": "stdout",
          "text": [
            "+--------------------+-----+\n",
            "|            endpoint|count|\n",
            "+--------------------+-----+\n",
            "|/images/NASA-logo...| 2097|\n",
            "|/images/ksclogo-m...| 1399|\n",
            "|/images/MOSAIC-lo...| 1393|\n",
            "|/images/USA-logos...| 1389|\n",
            "|/images/WORLD-log...| 1374|\n",
            "|/images/KSC-logos...| 1287|\n",
            "|           /ksc.html| 1109|\n",
            "|/images/launch-lo...|  586|\n",
            "|                   /|  559|\n",
            "| /shuttle/countdown/|  552|\n",
            "+--------------------+-----+\n",
            "\n"
          ]
        }
      ]
    },
    {
      "cell_type": "code",
      "source": [
        "#f How many unique hosts visited the website in two month\n",
        "unique_hosts = logs_df.count()\n",
        "print(f\"Unique hosts: {unique_hosts}\")"
      ],
      "metadata": {
        "colab": {
          "base_uri": "https://localhost:8080/"
        },
        "id": "Jgc58JcCwMQK",
        "outputId": "ef75b310-c255-429d-d294-c7b2fe6c88f3"
      },
      "execution_count": 17,
      "outputs": [
        {
          "output_type": "stream",
          "name": "stdout",
          "text": [
            "Unique hosts: 1891715\n"
          ]
        }
      ]
    },
    {
      "cell_type": "code",
      "source": [
        "#g Find the average number of requests made per host to the website per day\n",
        "total_requests = logs_df.count()\n",
        "avg_requests_per_host = total_requests / unique_hosts\n",
        "print(f\"Average requests per host: {avg_requests_per_host}\")"
      ],
      "metadata": {
        "colab": {
          "base_uri": "https://localhost:8080/"
        },
        "id": "A4mrXdbKwq9J",
        "outputId": "39ba99cc-0a70-4633-f787-16368c23cfe1"
      },
      "execution_count": 19,
      "outputs": [
        {
          "output_type": "stream",
          "name": "stdout",
          "text": [
            "Average requests per host: 1.0\n"
          ]
        }
      ]
    },
    {
      "cell_type": "code",
      "source": [
        "#h Listing the top twenty 404 response code endpoints\n",
        "logs_df.filter(\"status == 404\").groupby(\"endpoint\").count().orderBy(desc(\"count\")).limit(20).show()"
      ],
      "metadata": {
        "colab": {
          "base_uri": "https://localhost:8080/"
        },
        "id": "Fypi6vFkmOOf",
        "outputId": "0c8fd302-dbb9-41dd-c99d-5076598fbc84"
      },
      "execution_count": 21,
      "outputs": [
        {
          "output_type": "stream",
          "name": "stdout",
          "text": [
            "+--------------------+-----+\n",
            "|            endpoint|count|\n",
            "+--------------------+-----+\n",
            "|/images/ksclogo-m...|    5|\n",
            "|/images/USA-logos...|    5|\n",
            "|/images/NASA-logo...|    5|\n",
            "|/images/MOSAIC-lo...|    5|\n",
            "|/images/WORLD-log...|    5|\n",
            "|                   /|    3|\n",
            "|/shuttle/countdow...|    3|\n",
            "|/history/apollo/i...|    3|\n",
            "|/images/KSC-logos...|    3|\n",
            "| /shuttle/countdown/|    3|\n",
            "|           /ksc.html|    2|\n",
            "|/shuttle/countdow...|    2|\n",
            "|/history/apollo/i...|    2|\n",
            "|/shuttle/missions...|    2|\n",
            "|/history/apollo/i...|    1|\n",
            "|/facilities/lc39a...|    1|\n",
            "|/shuttle/countdow...|    1|\n",
            "|/history/apollo/a...|    1|\n",
            "|/images/whatsnew.gif|    1|\n",
            "|/images/kscmap-ti...|    1|\n",
            "+--------------------+-----+\n",
            "\n"
          ]
        }
      ]
    },
    {
      "cell_type": "code",
      "source": [
        "#i list of the top twenty hosts that generate the most 404 errors\n",
        "logs_df.filter(\"status == 404\").groupby(\"host\").count().orderBy(desc(\"count\")).limit(20).show()"
      ],
      "metadata": {
        "colab": {
          "base_uri": "https://localhost:8080/"
        },
        "id": "vwgMVtwQnr2d",
        "outputId": "609b95ac-f46f-45ac-ad7f-c1d6e4b6d1fb"
      },
      "execution_count": 22,
      "outputs": [
        {
          "output_type": "stream",
          "name": "stdout",
          "text": [
            "+--------------------+-----+\n",
            "|                host|count|\n",
            "+--------------------+-----+\n",
            "|gespie4044.erin.u...|   35|\n",
            "| ppp404.st.rim.or.jp|   12|\n",
            "|i404ae1a.cfa.ilst...|   11|\n",
            "| slip4040.sirius.com|    8|\n",
            "|sunm4048aq.sph.um...|    7|\n",
            "|ppp404.po.iijnet....|    7|\n",
            "| slip4041.sirius.com|    6|\n",
            "|meb404a-1.anesth....|    5|\n",
            "|  grail404.nando.net|    1|\n",
            "| slip4044.sirius.com|    1|\n",
            "+--------------------+-----+\n",
            "\n"
          ]
        }
      ]
    },
    {
      "cell_type": "code",
      "source": [
        "#j Visualizing 404 errors per day\n",
        "import matplotlib.pyplot as plt\n",
        "import matplotlib.ticker as ticker\n",
        "\n",
        "\n",
        "daily_404_pd.plot(x=\"date\", y=\"count\", kind=\"line\", title=\"404 Errors Per Day\", legend=False)\n",
        "plt.xlabel(\"Date\")\n",
        "plt.ylabel(\"Number of 404 Errors\")\n",
        "\n",
        "import matplotlib.ticker as ticker\n",
        "ax = plt.gca()\n",
        "ax.xaxis.set_major_locator(ticker.MaxNLocator(nbins=10))\n",
        "plt.xticks(rotation=45)\n",
        "\n",
        "plt.grid(True)\n",
        "plt.tight_layout()\n",
        "plt.show()\n",
        "\n"
      ],
      "metadata": {
        "colab": {
          "base_uri": "https://localhost:8080/",
          "height": 487
        },
        "id": "Z-fGk4vAtRt5",
        "outputId": "74954c34-d666-4068-8ea4-0becfea823e9"
      },
      "execution_count": 29,
      "outputs": [
        {
          "output_type": "display_data",
          "data": {
            "text/plain": [
              "<Figure size 640x480 with 1 Axes>"
            ],
            "image/png": "[encoded data removed]"
          },
          "metadata": {}
        }
      ]
    },
    {
      "cell_type": "code",
      "source": [
        "#k top three days of the month with the most 404 errors\n",
        "from pyspark.sql.functions import to_date, desc\n",
        "\n",
        "logs_df.filter(\"status = 404\") \\\n",
        "    .withColumn(\"date\", to_date(\"timestamp\", \"dd/MMM/yyyy\")) \\\n",
        "    .groupBy(\"date\").count() \\\n",
        "    .orderBy(desc(\"count\")) \\\n",
        "    .limit(3) \\\n",
        "    .show()\n"
      ],
      "metadata": {
        "colab": {
          "base_uri": "https://localhost:8080/"
        },
        "id": "VnjbYhQw1RJg",
        "outputId": "1c814a48-d297-43ef-f805-75d681e0e096"
      },
      "execution_count": 27,
      "outputs": [
        {
          "output_type": "stream",
          "name": "stdout",
          "text": [
            "+----------+-----+\n",
            "|      date|count|\n",
            "+----------+-----+\n",
            "|1995-07-15|   36|\n",
            "|1995-07-21|   11|\n",
            "|1995-07-27|    8|\n",
            "+----------+-----+\n",
            "\n"
          ]
        }
      ]
    },
    {
      "cell_type": "code",
      "source": [
        "#l Visualizing hourly 404 errors\n",
        "from pyspark.sql.functions import hour, col\n",
        "import matplotlib.pyplot as plt\n",
        "\n",
        "hourly_404_df = logs_df.filter(\"status = 404\") \\\n",
        "    .withColumn(\"hour\", hour(\"timestamp\")) \\\n",
        "    .groupBy(\"hour\").count().toPandas()\n",
        "\n",
        "hourly_404_df.plot(x=\"hour\", y=\"count\", kind=\"bar\", title=\"Hourly 404 Errors\")\n",
        "plt.show()\n"
      ],
      "metadata": {
        "colab": {
          "base_uri": "https://localhost:8080/",
          "height": 484
        },
        "id": "RGCj7jTx1WMs",
        "outputId": "35d7fb9c-ef77-47db-a7e0-018ff0ba6d65"
      },
      "execution_count": 28,
      "outputs": [
        {
          "output_type": "display_data",
          "data": {
            "text/plain": [
              "<Figure size 640x480 with 1 Axes>"
            ],
            "image/png": "[encoded data removed]"
          },
          "metadata": {}
        }
      ]
    },
    {
      "cell_type": "markdown",
      "source": [],
      "metadata": {
        "id": "ezu-EwiOz8eV"
      }
    }
  ]
}